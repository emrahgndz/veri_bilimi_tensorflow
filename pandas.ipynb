{
 "cells": [
  {
   "cell_type": "code",
   "execution_count": 1,
   "id": "251f6efb",
   "metadata": {},
   "outputs": [],
   "source": [
    "import pandas as pd\n",
    "import numpy as np"
   ]
  },
  {
   "cell_type": "code",
   "execution_count": 2,
   "id": "0334f051",
   "metadata": {},
   "outputs": [],
   "source": [
    "sozluk = {\"emrah\": 26 ,\"gündüz\": 16,\"erzincan\": 24}"
   ]
  },
  {
   "cell_type": "code",
   "execution_count": 3,
   "id": "e1a5f26d",
   "metadata": {},
   "outputs": [
    {
     "data": {
      "text/plain": [
       "emrah       26\n",
       "gündüz      16\n",
       "erzincan    24\n",
       "dtype: int64"
      ]
     },
     "execution_count": 3,
     "metadata": {},
     "output_type": "execute_result"
    }
   ],
   "source": [
    "pd.Series(sozluk)"
   ]
  },
  {
   "cell_type": "code",
   "execution_count": 4,
   "id": "20feacb0",
   "metadata": {},
   "outputs": [],
   "source": [
    "yas = [26,16,24]\n",
    "isim=[\"emrah\",\"gündüz\",\"erzincan\"]"
   ]
  },
  {
   "cell_type": "code",
   "execution_count": 5,
   "id": "2dc47a65",
   "metadata": {},
   "outputs": [
    {
     "data": {
      "text/plain": [
       "0    26\n",
       "1    16\n",
       "2    24\n",
       "dtype: int64"
      ]
     },
     "execution_count": 5,
     "metadata": {},
     "output_type": "execute_result"
    }
   ],
   "source": [
    "pd.Series(yas)"
   ]
  },
  {
   "cell_type": "code",
   "execution_count": 6,
   "id": "5ec24fd3",
   "metadata": {},
   "outputs": [
    {
     "data": {
      "text/plain": [
       "emrah       26\n",
       "gündüz      16\n",
       "erzincan    24\n",
       "dtype: int64"
      ]
     },
     "execution_count": 6,
     "metadata": {},
     "output_type": "execute_result"
    }
   ],
   "source": [
    "pd.Series(yas,isim)"
   ]
  },
  {
   "cell_type": "code",
   "execution_count": 7,
   "id": "1012a007",
   "metadata": {},
   "outputs": [
    {
     "data": {
      "text/plain": [
       "emrah       26\n",
       "gündüz      16\n",
       "erzincan    24\n",
       "dtype: int64"
      ]
     },
     "execution_count": 7,
     "metadata": {},
     "output_type": "execute_result"
    }
   ],
   "source": [
    "pd.Series(data = yas,index = isim)"
   ]
  },
  {
   "cell_type": "code",
   "execution_count": 8,
   "id": "1139935f",
   "metadata": {},
   "outputs": [],
   "source": [
    "npdizisi = np.array(yas)"
   ]
  },
  {
   "cell_type": "code",
   "execution_count": 9,
   "id": "e09b7bb7",
   "metadata": {},
   "outputs": [
    {
     "data": {
      "text/plain": [
       "array([26, 16, 24])"
      ]
     },
     "execution_count": 9,
     "metadata": {},
     "output_type": "execute_result"
    }
   ],
   "source": [
    "npdizisi"
   ]
  },
  {
   "cell_type": "code",
   "execution_count": 10,
   "id": "8b91fd91",
   "metadata": {},
   "outputs": [
    {
     "data": {
      "text/plain": [
       "1     Atıl\n",
       "2    Atlas\n",
       "3    Osman\n",
       "dtype: object"
      ]
     },
     "execution_count": 10,
     "metadata": {},
     "output_type": "execute_result"
    }
   ],
   "source": [
    "pd.Series([\"Atıl\",\"Atlas\",\"Osman\"],[1,2,3])"
   ]
  },
  {
   "cell_type": "code",
   "execution_count": 12,
   "id": "f7f8d28d",
   "metadata": {},
   "outputs": [],
   "source": [
    "yarismasonuc = pd.Series([69,43,54],[\"Emrah\",\"Emre\",\"Emir\"])"
   ]
  },
  {
   "cell_type": "code",
   "execution_count": 26,
   "id": "825b4d72",
   "metadata": {},
   "outputs": [
    {
     "data": {
      "text/plain": [
       "Emre     43\n",
       "Emir     54\n",
       "Emrah    69\n",
       "dtype: int64"
      ]
     },
     "execution_count": 26,
     "metadata": {},
     "output_type": "execute_result"
    }
   ],
   "source": [
    "yarismasonuc.sort_values()"
   ]
  },
  {
   "cell_type": "code",
   "execution_count": 27,
   "id": "c878c598",
   "metadata": {},
   "outputs": [
    {
     "data": {
      "text/plain": [
       "Emrah    69\n",
       "Emir     54\n",
       "Emre     43\n",
       "dtype: int64"
      ]
     },
     "execution_count": 27,
     "metadata": {},
     "output_type": "execute_result"
    }
   ],
   "source": [
    "yarismasonuc.sort_values(ascending = False)"
   ]
  },
  {
   "cell_type": "code",
   "execution_count": null,
   "id": "2d9995b8",
   "metadata": {},
   "outputs": [],
   "source": []
  },
  {
   "cell_type": "code",
   "execution_count": null,
   "id": "4bc20132",
   "metadata": {},
   "outputs": [],
   "source": []
  },
  {
   "cell_type": "code",
   "execution_count": null,
   "id": "3b9aadb2",
   "metadata": {},
   "outputs": [],
   "source": []
  }
 ],
 "metadata": {
  "kernelspec": {
   "display_name": "Python 3",
   "language": "python",
   "name": "python3"
  },
  "language_info": {
   "codemirror_mode": {
    "name": "ipython",
    "version": 3
   },
   "file_extension": ".py",
   "mimetype": "text/x-python",
   "name": "python",
   "nbconvert_exporter": "python",
   "pygments_lexer": "ipython3",
   "version": "3.8.8"
  }
 },
 "nbformat": 4,
 "nbformat_minor": 5
}
