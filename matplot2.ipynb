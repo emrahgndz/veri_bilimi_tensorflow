{
 "cells": [
  {
   "cell_type": "code",
   "execution_count": 6,
   "id": "31ec0d8d",
   "metadata": {},
   "outputs": [],
   "source": [
    "import numpy as np\n",
    "import pandas as pd\n",
    "import matplotlib.pyplot as plt\n",
    "%matplotlib inline"
   ]
  },
  {
   "cell_type": "code",
   "execution_count": 7,
   "id": "c632437b",
   "metadata": {},
   "outputs": [],
   "source": [
    "numpydizi1 = np.linspace(0,10,20)"
   ]
  },
  {
   "cell_type": "code",
   "execution_count": 8,
   "id": "933ae0cb",
   "metadata": {},
   "outputs": [
    {
     "data": {
      "text/plain": [
       "array([ 0.        ,  0.52631579,  1.05263158,  1.57894737,  2.10526316,\n",
       "        2.63157895,  3.15789474,  3.68421053,  4.21052632,  4.73684211,\n",
       "        5.26315789,  5.78947368,  6.31578947,  6.84210526,  7.36842105,\n",
       "        7.89473684,  8.42105263,  8.94736842,  9.47368421, 10.        ])"
      ]
     },
     "execution_count": 8,
     "metadata": {},
     "output_type": "execute_result"
    }
   ],
   "source": [
    "numpydizi1"
   ]
  },
  {
   "cell_type": "code",
   "execution_count": 9,
   "id": "72689fdd",
   "metadata": {},
   "outputs": [],
   "source": [
    "numpydizi2 = numpydizi1 ** 2"
   ]
  },
  {
   "cell_type": "code",
   "execution_count": 10,
   "id": "b2467476",
   "metadata": {},
   "outputs": [
    {
     "data": {
      "text/plain": [
       "array([  0.        ,   0.27700831,   1.10803324,   2.49307479,\n",
       "         4.43213296,   6.92520776,   9.97229917,  13.5734072 ,\n",
       "        17.72853186,  22.43767313,  27.70083102,  33.51800554,\n",
       "        39.88919668,  46.81440443,  54.29362881,  62.32686981,\n",
       "        70.91412742,  80.05540166,  89.75069252, 100.        ])"
      ]
     },
     "execution_count": 10,
     "metadata": {},
     "output_type": "execute_result"
    }
   ],
   "source": [
    "numpydizi2"
   ]
  },
  {
   "cell_type": "code",
   "execution_count": 20,
   "id": "0de85506",
   "metadata": {},
   "outputs": [
    {
     "data": {
      "text/plain": [
       "[<matplotlib.lines.Line2D at 0x1a559f2b130>]"
      ]
     },
     "execution_count": 20,
     "metadata": {},
     "output_type": "execute_result"
    },
    {
     "data": {
      "image/png": "[encoded data removed]",
      "text/plain": [
       "<Figure size 432x288 with 1 Axes>"
      ]
     },
     "metadata": {
      "needs_background": "light"
     },
     "output_type": "display_data"
    }
   ],
   "source": [
    "(benimfigur,benimeksen) = plt.subplots()\n",
    "benimeksen.plot(numpydizi1,numpydizi2,color = \"#3A95A8\",alpha = 0.5)\n",
    "benimeksen.plot(numpydizi2,numpydizi1,\"b\")"
   ]
  },
  {
   "cell_type": "code",
   "execution_count": 39,
   "id": "3ccce881",
   "metadata": {},
   "outputs": [
    {
     "data": {
      "text/plain": [
       "[<matplotlib.lines.Line2D at 0x1a55c812d60>]"
      ]
     },
     "execution_count": 39,
     "metadata": {},
     "output_type": "execute_result"
    },
    {
     "data": {
      "image/png": "[encoded data removed]",
      "text/plain": [
       "<Figure size 432x288 with 1 Axes>"
      ]
     },
     "metadata": {
      "needs_background": "light"
     },
     "output_type": "display_data"
    }
   ],
   "source": [
    "(yenifigur,yenieksen) = plt.subplots()\n",
    "yenieksen.plot(numpydizi1,numpydizi1 + 2,\"y\",linewidth = 5.0\n",
    "              )\n",
    "yenieksen.plot(numpydizi1,numpydizi1 + 3,\"b\",linewidth = 0.5)\n",
    "yenieksen.plot(numpydizi1,numpydizi1 + 4,\"r\",linestyle= \"--\")\n",
    "yenieksen.plot(numpydizi1,numpydizi1 + 5,\"o\",linestyle= \"--\",marker =\"o\",markersize =8, markerfacecolor =\"red\")"
   ]
  },
  {
   "cell_type": "markdown",
   "id": "a27e7e8f",
   "metadata": {},
   "source": [
    "# scatter "
   ]
  },
  {
   "cell_type": "code",
   "execution_count": 40,
   "id": "263d192b",
   "metadata": {},
   "outputs": [
    {
     "data": {
      "text/plain": [
       "<matplotlib.collections.PathCollection at 0x1a55c611b80>"
      ]
     },
     "execution_count": 40,
     "metadata": {},
     "output_type": "execute_result"
    },
    {
     "data": {
      "image/png": "[encoded data removed]",
      "text/plain": [
       "<Figure size 432x288 with 1 Axes>"
      ]
     },
     "metadata": {
      "needs_background": "light"
     },
     "output_type": "display_data"
    }
   ],
   "source": [
    "plt.scatter(numpydizi1,numpydizi2)"
   ]
  },
  {
   "cell_type": "markdown",
   "id": "f0ebeb3c",
   "metadata": {},
   "source": [
    "# histogram"
   ]
  },
  {
   "cell_type": "code",
   "execution_count": 41,
   "id": "d26fe4f8",
   "metadata": {},
   "outputs": [],
   "source": [
    "yenidizi = np.random.randint(0,100,50)"
   ]
  },
  {
   "cell_type": "code",
   "execution_count": 42,
   "id": "cf079c64",
   "metadata": {},
   "outputs": [
    {
     "data": {
      "text/plain": [
       "array([54, 47, 23, 31,  8, 37, 23, 42, 38, 23, 85, 20, 68, 69, 72, 92, 43,\n",
       "       32, 17, 20, 81, 72, 75, 56, 79, 93, 82,  1, 60, 50, 97, 62,  9, 51,\n",
       "       98,  6, 41,  8, 49, 99, 87, 69, 24,  0, 72, 99, 19, 80, 13, 72])"
      ]
     },
     "execution_count": 42,
     "metadata": {},
     "output_type": "execute_result"
    }
   ],
   "source": [
    "yenidizi"
   ]
  },
  {
   "cell_type": "code",
   "execution_count": 43,
   "id": "2b2760c5",
   "metadata": {},
   "outputs": [
    {
     "data": {
      "text/plain": [
       "(array([6., 3., 6., 4., 5., 4., 5., 6., 5., 6.]),\n",
       " array([ 0. ,  9.9, 19.8, 29.7, 39.6, 49.5, 59.4, 69.3, 79.2, 89.1, 99. ]),\n",
       " <BarContainer object of 10 artists>)"
      ]
     },
     "execution_count": 43,
     "metadata": {},
     "output_type": "execute_result"
    },
    {
     "data": {
      "image/png": "[encoded data removed]",
      "text/plain": [
       "<Figure size 432x288 with 1 Axes>"
      ]
     },
     "metadata": {
      "needs_background": "light"
     },
     "output_type": "display_data"
    }
   ],
   "source": [
    "plt.hist(yenidizi)"
   ]
  },
  {
   "cell_type": "markdown",
   "id": "2b56b001",
   "metadata": {},
   "source": [
    "# boxplot"
   ]
  },
  {
   "cell_type": "code",
   "execution_count": 47,
   "id": "ff243e98",
   "metadata": {},
   "outputs": [
    {
     "data": {
      "text/plain": [
       "{'whiskers': [<matplotlib.lines.Line2D at 0x1a55ad72130>,\n",
       "  <matplotlib.lines.Line2D at 0x1a55c942f40>],\n",
       " 'caps': [<matplotlib.lines.Line2D at 0x1a55c9426a0>,\n",
       "  <matplotlib.lines.Line2D at 0x1a55961fb50>],\n",
       " 'boxes': [<matplotlib.lines.Line2D at 0x1a55aa6a370>],\n",
       " 'medians': [<matplotlib.lines.Line2D at 0x1a55ad6f8e0>],\n",
       " 'fliers': [<matplotlib.lines.Line2D at 0x1a55ad6fe20>],\n",
       " 'means': []}"
      ]
     },
     "execution_count": 47,
     "metadata": {},
     "output_type": "execute_result"
    },
    {
     "data": {
      "image/png": "[encoded data removed]",
      "text/plain": [
       "<Figure size 432x288 with 1 Axes>"
      ]
     },
     "metadata": {
      "needs_background": "light"
     },
     "output_type": "display_data"
    }
   ],
   "source": [
    "plt.boxplot(yenidizi)"
   ]
  },
  {
   "cell_type": "code",
   "execution_count": 48,
   "id": "a0cbdaa1",
   "metadata": {},
   "outputs": [
    {
     "data": {
      "text/plain": [
       "{'whiskers': [<matplotlib.lines.Line2D at 0x1a55c506370>,\n",
       "  <matplotlib.lines.Line2D at 0x1a55c506d60>],\n",
       " 'caps': [<matplotlib.lines.Line2D at 0x1a55c493ca0>,\n",
       "  <matplotlib.lines.Line2D at 0x1a55c50ea90>],\n",
       " 'boxes': [<matplotlib.lines.Line2D at 0x1a55c50be80>],\n",
       " 'medians': [<matplotlib.lines.Line2D at 0x1a55c50e670>],\n",
       " 'fliers': [<matplotlib.lines.Line2D at 0x1a55c50e9d0>],\n",
       " 'means': []}"
      ]
     },
     "execution_count": 48,
     "metadata": {},
     "output_type": "execute_result"
    },
    {
     "data": {
      "image/png": "[encoded data removed]",
      "text/plain": [
       "<Figure size 432x288 with 1 Axes>"
      ]
     },
     "metadata": {
      "needs_background": "light"
     },
     "output_type": "display_data"
    }
   ],
   "source": [
    "plt.boxplot(yenidizi*2)"
   ]
  },
  {
   "cell_type": "code",
   "execution_count": null,
   "id": "b01d5ea1",
   "metadata": {},
   "outputs": [],
   "source": []
  }
 ],
 "metadata": {
  "kernelspec": {
   "display_name": "Python 3",
   "language": "python",
   "name": "python3"
  },
  "language_info": {
   "codemirror_mode": {
    "name": "ipython",
    "version": 3
   },
   "file_extension": ".py",
   "mimetype": "text/x-python",
   "name": "python",
   "nbconvert_exporter": "python",
   "pygments_lexer": "ipython3",
   "version": "3.8.8"
  }
 },
 "nbformat": 4,
 "nbformat_minor": 5
}
