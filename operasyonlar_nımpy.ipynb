{
 "cells": [
  {
   "cell_type": "code",
   "execution_count": 1,
   "id": "22c8a6bc",
   "metadata": {},
   "outputs": [],
   "source": [
    "import numpy as np"
   ]
  },
  {
   "cell_type": "code",
   "execution_count": 2,
   "id": "bbda3834",
   "metadata": {},
   "outputs": [],
   "source": [
    "dizi = np.random.randint(0,100,20)"
   ]
  },
  {
   "cell_type": "code",
   "execution_count": 3,
   "id": "3ce7d28d",
   "metadata": {},
   "outputs": [
    {
     "data": {
      "text/plain": [
       "array([ 5, 91, 82, 56, 22, 86, 60, 60, 40, 77, 91, 32, 82, 49, 49, 66, 55,\n",
       "       52, 35, 75])"
      ]
     },
     "execution_count": 3,
     "metadata": {},
     "output_type": "execute_result"
    }
   ],
   "source": [
    "dizi"
   ]
  },
  {
   "cell_type": "code",
   "execution_count": 4,
   "id": "8b7701e9",
   "metadata": {},
   "outputs": [
    {
     "data": {
      "text/plain": [
       "array([False,  True,  True,  True, False,  True,  True,  True,  True,\n",
       "        True,  True,  True,  True,  True,  True,  True,  True,  True,\n",
       "        True,  True])"
      ]
     },
     "execution_count": 4,
     "metadata": {},
     "output_type": "execute_result"
    }
   ],
   "source": [
    "dizi > 24"
   ]
  },
  {
   "cell_type": "code",
   "execution_count": 5,
   "id": "d3f33ad4",
   "metadata": {},
   "outputs": [],
   "source": [
    "sonuc = dizi >24"
   ]
  },
  {
   "cell_type": "code",
   "execution_count": 6,
   "id": "2ef0c2a6",
   "metadata": {},
   "outputs": [
    {
     "data": {
      "text/plain": [
       "array([91, 82, 56, 86, 60, 60, 40, 77, 91, 32, 82, 49, 49, 66, 55, 52, 35,\n",
       "       75])"
      ]
     },
     "execution_count": 6,
     "metadata": {},
     "output_type": "execute_result"
    }
   ],
   "source": [
    "dizi[dizi>24]"
   ]
  },
  {
   "cell_type": "code",
   "execution_count": 7,
   "id": "c15c0490",
   "metadata": {},
   "outputs": [
    {
     "data": {
      "text/plain": [
       "array([91, 82, 56, 86, 60, 60, 40, 77, 91, 32, 82, 49, 49, 66, 55, 52, 35,\n",
       "       75])"
      ]
     },
     "execution_count": 7,
     "metadata": {},
     "output_type": "execute_result"
    }
   ],
   "source": [
    "dizi[sonuc]"
   ]
  },
  {
   "cell_type": "code",
   "execution_count": 8,
   "id": "a4a8ce31",
   "metadata": {},
   "outputs": [],
   "source": [
    "sondizi = np.arange(0,24)"
   ]
  },
  {
   "cell_type": "code",
   "execution_count": 9,
   "id": "79cc424c",
   "metadata": {},
   "outputs": [
    {
     "data": {
      "text/plain": [
       "array([ 0,  1,  2,  3,  4,  5,  6,  7,  8,  9, 10, 11, 12, 13, 14, 15, 16,\n",
       "       17, 18, 19, 20, 21, 22, 23])"
      ]
     },
     "execution_count": 9,
     "metadata": {},
     "output_type": "execute_result"
    }
   ],
   "source": [
    "sondizi"
   ]
  },
  {
   "cell_type": "code",
   "execution_count": 10,
   "id": "26ddfc17",
   "metadata": {},
   "outputs": [
    {
     "data": {
      "text/plain": [
       "array([ 0,  2,  4,  6,  8, 10, 12, 14, 16, 18, 20, 22, 24, 26, 28, 30, 32,\n",
       "       34, 36, 38, 40, 42, 44, 46])"
      ]
     },
     "execution_count": 10,
     "metadata": {},
     "output_type": "execute_result"
    }
   ],
   "source": [
    "sondizi+sondizi"
   ]
  },
  {
   "cell_type": "code",
   "execution_count": 11,
   "id": "698da9cb",
   "metadata": {},
   "outputs": [
    {
     "data": {
      "text/plain": [
       "array([  0,   1,   4,   9,  16,  25,  36,  49,  64,  81, 100, 121, 144,\n",
       "       169, 196, 225, 256, 289, 324, 361, 400, 441, 484, 529])"
      ]
     },
     "execution_count": 11,
     "metadata": {},
     "output_type": "execute_result"
    }
   ],
   "source": [
    "sondizi*sondizi"
   ]
  },
  {
   "cell_type": "code",
   "execution_count": 13,
   "id": "4b10412c",
   "metadata": {},
   "outputs": [
    {
     "name": "stderr",
     "output_type": "stream",
     "text": [
      "<ipython-input-13-c3c378435acd>:1: RuntimeWarning: invalid value encountered in true_divide\n",
      "  sondizi/sondizi\n"
     ]
    },
    {
     "data": {
      "text/plain": [
       "array([nan,  1.,  1.,  1.,  1.,  1.,  1.,  1.,  1.,  1.,  1.,  1.,  1.,\n",
       "        1.,  1.,  1.,  1.,  1.,  1.,  1.,  1.,  1.,  1.,  1.])"
      ]
     },
     "execution_count": 13,
     "metadata": {},
     "output_type": "execute_result"
    }
   ],
   "source": [
    "sondizi/sondizi"
   ]
  },
  {
   "cell_type": "code",
   "execution_count": null,
   "id": "79e52b2e",
   "metadata": {},
   "outputs": [],
   "source": []
  }
 ],
 "metadata": {
  "kernelspec": {
   "display_name": "Python 3",
   "language": "python",
   "name": "python3"
  },
  "language_info": {
   "codemirror_mode": {
    "name": "ipython",
    "version": 3
   },
   "file_extension": ".py",
   "mimetype": "text/x-python",
   "name": "python",
   "nbconvert_exporter": "python",
   "pygments_lexer": "ipython3",
   "version": "3.8.8"
  }
 },
 "nbformat": 4,
 "nbformat_minor": 5
}
