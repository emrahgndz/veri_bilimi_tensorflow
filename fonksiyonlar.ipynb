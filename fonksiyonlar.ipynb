{
 "cells": [
  {
   "cell_type": "code",
   "execution_count": 1,
   "id": "d2e7b565",
   "metadata": {},
   "outputs": [],
   "source": [
    "def ilkfon():\n",
    "    print(\"ilk fonk\")"
   ]
  },
  {
   "cell_type": "code",
   "execution_count": 2,
   "id": "8125fab8",
   "metadata": {},
   "outputs": [
    {
     "name": "stdout",
     "output_type": "stream",
     "text": [
      "ilk fonk\n"
     ]
    }
   ],
   "source": [
    "ilkfon()"
   ]
  },
  {
   "cell_type": "markdown",
   "id": "db6656a3",
   "metadata": {},
   "source": [
    "# input ve return"
   ]
  },
  {
   "cell_type": "code",
   "execution_count": 6,
   "id": "7611bbb6",
   "metadata": {},
   "outputs": [],
   "source": [
    "def merhabadunya(yazdirilicakisim):\n",
    "    print(\"Merhaba Dünya\")\n",
    "    print(yazdirilicakisim)"
   ]
  },
  {
   "cell_type": "code",
   "execution_count": 10,
   "id": "7d470fbc",
   "metadata": {},
   "outputs": [
    {
     "name": "stdout",
     "output_type": "stream",
     "text": [
      "Merhaba Dünya\n",
      "fener\n"
     ]
    }
   ],
   "source": [
    "merhabadunya(\"fener\")"
   ]
  },
  {
   "cell_type": "code",
   "execution_count": 11,
   "id": "52508f30",
   "metadata": {},
   "outputs": [],
   "source": [
    "def merhaba(isim = \"Emrah\"):\n",
    "    print(f\"Merhaba {isim}\")"
   ]
  },
  {
   "cell_type": "code",
   "execution_count": 12,
   "id": "43e9dc80",
   "metadata": {},
   "outputs": [
    {
     "name": "stdout",
     "output_type": "stream",
     "text": [
      "Merhaba Emrah\n"
     ]
    }
   ],
   "source": [
    "merhaba()"
   ]
  },
  {
   "cell_type": "code",
   "execution_count": 13,
   "id": "45c23e73",
   "metadata": {},
   "outputs": [
    {
     "name": "stdout",
     "output_type": "stream",
     "text": [
      "Merhaba ronaldo\n"
     ]
    }
   ],
   "source": [
    "merhaba(\"ronaldo\")"
   ]
  },
  {
   "cell_type": "code",
   "execution_count": null,
   "id": "877e287e",
   "metadata": {},
   "outputs": [],
   "source": [
    "def toplama(numara1,numara2):\n",
    "    \n",
    "    sonuc = numara1+numara2\n",
    "    print(sonuc)\n",
    "    "
   ]
  },
  {
   "cell_type": "code",
   "execution_count": null,
   "id": "a34f9f5c",
   "metadata": {},
   "outputs": [],
   "source": [
    "toplama(10,20)"
   ]
  },
  {
   "cell_type": "code",
   "execution_count": null,
   "id": "8c4d8c1a",
   "metadata": {},
   "outputs": [],
   "source": [
    "def toplama(numara1,numara2):\n",
    "    \n",
    "    return numara1+numara2\n",
    "    "
   ]
  },
  {
   "cell_type": "markdown",
   "id": "18a15e56",
   "metadata": {},
   "source": [
    "# args ve kwargs"
   ]
  },
  {
   "cell_type": "code",
   "execution_count": 1,
   "id": "cb24a9b3",
   "metadata": {},
   "outputs": [],
   "source": [
    "def yenitoplama(*args):\n",
    "    return sum(args)"
   ]
  },
  {
   "cell_type": "code",
   "execution_count": 2,
   "id": "634bd5cf",
   "metadata": {},
   "outputs": [
    {
     "data": {
      "text/plain": [
       "150"
      ]
     },
     "execution_count": 2,
     "metadata": {},
     "output_type": "execute_result"
    }
   ],
   "source": [
    "yenitoplama(10,20,30,40,50)"
   ]
  },
  {
   "cell_type": "code",
   "execution_count": 3,
   "id": "2ed19ab9",
   "metadata": {},
   "outputs": [
    {
     "data": {
      "text/plain": [
       "15448"
      ]
     },
     "execution_count": 3,
     "metadata": {},
     "output_type": "execute_result"
    }
   ],
   "source": [
    "yenitoplama(12,3124,12312)"
   ]
  },
  {
   "cell_type": "code",
   "execution_count": 8,
   "id": "3f387e72",
   "metadata": {},
   "outputs": [],
   "source": [
    "def fonksiyonum(*args):\n",
    "    return sum(args)"
   ]
  },
  {
   "cell_type": "code",
   "execution_count": 9,
   "id": "a74d9d6a",
   "metadata": {},
   "outputs": [
    {
     "data": {
      "text/plain": [
       "90"
      ]
     },
     "execution_count": 9,
     "metadata": {},
     "output_type": "execute_result"
    }
   ],
   "source": [
    "fonksiyonum(20,30,40)"
   ]
  },
  {
   "cell_type": "code",
   "execution_count": 12,
   "id": "b1cc755e",
   "metadata": {},
   "outputs": [],
   "source": [
    "def ornekfonk(**kwargs):\n",
    "    return kwargs"
   ]
  },
  {
   "cell_type": "code",
   "execution_count": 13,
   "id": "06ee7077",
   "metadata": {},
   "outputs": [
    {
     "data": {
      "text/plain": [
       "{'muz': 32, 'elma': 23, 'ananas': 232}"
      ]
     },
     "execution_count": 13,
     "metadata": {},
     "output_type": "execute_result"
    }
   ],
   "source": [
    "ornekfonk(muz = 32, elma=23,ananas=232)"
   ]
  },
  {
   "cell_type": "markdown",
   "id": "f39446c4",
   "metadata": {},
   "source": [
    "# map"
   ]
  },
  {
   "cell_type": "code",
   "execution_count": 14,
   "id": "eb935d6a",
   "metadata": {},
   "outputs": [],
   "source": [
    "aliste = [1,2,3,4,5,6,7,8,9,10]\n",
    "def bolme(numara):\n",
    "    return numara / 2\n"
   ]
  },
  {
   "cell_type": "code",
   "execution_count": 15,
   "id": "626047f1",
   "metadata": {},
   "outputs": [
    {
     "data": {
      "text/plain": [
       "[0.5, 1.0, 1.5, 2.0, 2.5, 3.0, 3.5, 4.0, 4.5, 5.0]"
      ]
     },
     "execution_count": 15,
     "metadata": {},
     "output_type": "execute_result"
    }
   ],
   "source": [
    "list(map(bolme,aliste))"
   ]
  },
  {
   "cell_type": "code",
   "execution_count": 16,
   "id": "5418e93b",
   "metadata": {},
   "outputs": [],
   "source": [
    "def kontrol(string):\n",
    "    return \"a\" in string\n"
   ]
  },
  {
   "cell_type": "code",
   "execution_count": 18,
   "id": "6811eae2",
   "metadata": {},
   "outputs": [
    {
     "data": {
      "text/plain": [
       "True"
      ]
     },
     "execution_count": 18,
     "metadata": {},
     "output_type": "execute_result"
    }
   ],
   "source": [
    "kontrol(\"atıl\")"
   ]
  },
  {
   "cell_type": "code",
   "execution_count": 19,
   "id": "931180f5",
   "metadata": {},
   "outputs": [
    {
     "data": {
      "text/plain": [
       "False"
      ]
     },
     "execution_count": 19,
     "metadata": {},
     "output_type": "execute_result"
    }
   ],
   "source": [
    "kontrol(\"zeyne\")"
   ]
  },
  {
   "cell_type": "code",
   "execution_count": 21,
   "id": "7fce4ba5",
   "metadata": {},
   "outputs": [],
   "source": [
    "stringk =[\"atıl\",\"fazıl\",\"emre\",\"polat\",\"seher\"]"
   ]
  },
  {
   "cell_type": "code",
   "execution_count": 23,
   "id": "ac9940ab",
   "metadata": {},
   "outputs": [],
   "source": [
    "sonuc =list(map(kontrol,stringk))"
   ]
  },
  {
   "cell_type": "code",
   "execution_count": 26,
   "id": "589f1aab",
   "metadata": {},
   "outputs": [
    {
     "data": {
      "text/plain": [
       "3"
      ]
     },
     "execution_count": 26,
     "metadata": {},
     "output_type": "execute_result"
    }
   ],
   "source": [
    "sonuc.count(True)"
   ]
  },
  {
   "cell_type": "markdown",
   "id": "870497c0",
   "metadata": {},
   "source": [
    "# filter"
   ]
  },
  {
   "cell_type": "code",
   "execution_count": 27,
   "id": "b50dfaa6",
   "metadata": {},
   "outputs": [
    {
     "data": {
      "text/plain": [
       "['atıl', 'fazıl', 'polat']"
      ]
     },
     "execution_count": 27,
     "metadata": {},
     "output_type": "execute_result"
    }
   ],
   "source": [
    "list(filter(kontrol,stringk))"
   ]
  },
  {
   "cell_type": "markdown",
   "id": "0bf5b781",
   "metadata": {},
   "source": []
  },
  {
   "cell_type": "code",
   "execution_count": null,
   "id": "a4746e7f",
   "metadata": {},
   "outputs": [],
   "source": []
  },
  {
   "cell_type": "code",
   "execution_count": null,
   "id": "d394cacd",
   "metadata": {},
   "outputs": [],
   "source": []
  },
  {
   "cell_type": "code",
   "execution_count": null,
   "id": "53a04fc9",
   "metadata": {},
   "outputs": [],
   "source": []
  }
 ],
 "metadata": {
  "kernelspec": {
   "display_name": "Python 3",
   "language": "python",
   "name": "python3"
  },
  "language_info": {
   "codemirror_mode": {
    "name": "ipython",
    "version": 3
   },
   "file_extension": ".py",
   "mimetype": "text/x-python",
   "name": "python",
   "nbconvert_exporter": "python",
   "pygments_lexer": "ipython3",
   "version": "3.8.8"
  }
 },
 "nbformat": 4,
 "nbformat_minor": 5
}
