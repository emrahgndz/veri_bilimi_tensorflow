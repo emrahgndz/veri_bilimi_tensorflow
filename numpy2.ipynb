{
 "cells": [
  {
   "cell_type": "code",
   "execution_count": 7,
   "id": "7f1f30b1",
   "metadata": {},
   "outputs": [],
   "source": [
    "import numpy as np"
   ]
  },
  {
   "cell_type": "code",
   "execution_count": 8,
   "id": "a110d902",
   "metadata": {},
   "outputs": [],
   "source": [
    "dizi = np.arange(0,24)"
   ]
  },
  {
   "cell_type": "code",
   "execution_count": 9,
   "id": "e9877993",
   "metadata": {},
   "outputs": [],
   "source": [
    "dizikopyasi = dizi.copy()"
   ]
  },
  {
   "cell_type": "code",
   "execution_count": 11,
   "id": "9e7d3600",
   "metadata": {},
   "outputs": [],
   "source": [
    "dizikopyasisilicing = dizikopyasi[3:6]"
   ]
  },
  {
   "cell_type": "code",
   "execution_count": 12,
   "id": "5b34852c",
   "metadata": {},
   "outputs": [],
   "source": [
    "dizikopyasisilicing[:] = 500"
   ]
  },
  {
   "cell_type": "code",
   "execution_count": 17,
   "id": "96bc3cd3",
   "metadata": {},
   "outputs": [
    {
     "data": {
      "text/plain": [
       "array([ 0,  1,  2,  3,  4,  5,  6,  7,  8,  9, 10, 11, 12, 13, 14, 15, 16,\n",
       "       17, 18, 19, 20, 21, 22, 23])"
      ]
     },
     "execution_count": 17,
     "metadata": {},
     "output_type": "execute_result"
    }
   ],
   "source": [
    "dizi\n",
    "\n"
   ]
  },
  {
   "cell_type": "code",
   "execution_count": 18,
   "id": "ca02e699",
   "metadata": {},
   "outputs": [
    {
     "data": {
      "text/plain": [
       "array([  0,   1,   2, 500, 500, 500,   6,   7,   8,   9,  10,  11,  12,\n",
       "        13,  14,  15,  16,  17,  18,  19,  20,  21,  22,  23])"
      ]
     },
     "execution_count": 18,
     "metadata": {},
     "output_type": "execute_result"
    }
   ],
   "source": [
    "dizikopyasi"
   ]
  },
  {
   "cell_type": "code",
   "execution_count": 19,
   "id": "71cac7ff",
   "metadata": {},
   "outputs": [
    {
     "data": {
      "text/plain": [
       "array([500, 500, 500])"
      ]
     },
     "execution_count": 19,
     "metadata": {},
     "output_type": "execute_result"
    }
   ],
   "source": [
    "dizikopyasisilicing"
   ]
  },
  {
   "cell_type": "markdown",
   "id": "4234332c",
   "metadata": {},
   "source": [
    "# matrix"
   ]
  },
  {
   "cell_type": "code",
   "execution_count": 20,
   "id": "4fe2db35",
   "metadata": {},
   "outputs": [],
   "source": [
    "ornekmatrix = np.arange(0,30)"
   ]
  },
  {
   "cell_type": "code",
   "execution_count": 21,
   "id": "c01dc43d",
   "metadata": {},
   "outputs": [],
   "source": [
    "ornekmatrix = ornekmatrix.reshape(5,6)"
   ]
  },
  {
   "cell_type": "code",
   "execution_count": 26,
   "id": "0d2cfaeb",
   "metadata": {},
   "outputs": [
    {
     "data": {
      "text/plain": [
       "array([[ 0,  1,  2,  3,  4,  5],\n",
       "       [ 6,  7,  8,  9, 10, 11],\n",
       "       [12, 13, 14, 15, 16, 17],\n",
       "       [18, 19, 20, 21, 22, 23],\n",
       "       [24, 25, 26, 27, 28, 29]])"
      ]
     },
     "execution_count": 26,
     "metadata": {},
     "output_type": "execute_result"
    }
   ],
   "source": [
    "ornekmatrix"
   ]
  },
  {
   "cell_type": "code",
   "execution_count": 28,
   "id": "e64638df",
   "metadata": {},
   "outputs": [
    {
     "data": {
      "text/plain": [
       "9"
      ]
     },
     "execution_count": 28,
     "metadata": {},
     "output_type": "execute_result"
    }
   ],
   "source": [
    "ornekmatrix[1][3]"
   ]
  },
  {
   "cell_type": "code",
   "execution_count": 30,
   "id": "254a42ec",
   "metadata": {},
   "outputs": [
    {
     "data": {
      "text/plain": [
       "array([ 3,  9, 15, 21, 27])"
      ]
     },
     "execution_count": 30,
     "metadata": {},
     "output_type": "execute_result"
    }
   ],
   "source": [
    "ornekmatrix[:, 3]"
   ]
  },
  {
   "cell_type": "code",
   "execution_count": 36,
   "id": "16e68d6a",
   "metadata": {},
   "outputs": [
    {
     "data": {
      "text/plain": [
       "array([[ 0,  1,  2,  3,  4,  5],\n",
       "       [12, 13, 14, 15, 16, 17],\n",
       "       [24, 25, 26, 27, 28, 29]])"
      ]
     },
     "execution_count": 36,
     "metadata": {},
     "output_type": "execute_result"
    }
   ],
   "source": [
    "ornekmatrix[[0,2,4]]"
   ]
  },
  {
   "cell_type": "code",
   "execution_count": null,
   "id": "45097571",
   "metadata": {},
   "outputs": [],
   "source": []
  },
  {
   "cell_type": "code",
   "execution_count": null,
   "id": "d7746ff1",
   "metadata": {},
   "outputs": [],
   "source": []
  },
  {
   "cell_type": "code",
   "execution_count": null,
   "id": "f288e9ef",
   "metadata": {},
   "outputs": [],
   "source": []
  }
 ],
 "metadata": {
  "kernelspec": {
   "display_name": "Python 3",
   "language": "python",
   "name": "python3"
  },
  "language_info": {
   "codemirror_mode": {
    "name": "ipython",
    "version": 3
   },
   "file_extension": ".py",
   "mimetype": "text/x-python",
   "name": "python",
   "nbconvert_exporter": "python",
   "pygments_lexer": "ipython3",
   "version": "3.8.8"
  }
 },
 "nbformat": 4,
 "nbformat_minor": 5
}
