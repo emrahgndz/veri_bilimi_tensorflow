{
 "cells": [
  {
   "cell_type": "markdown",
   "id": "29d31786",
   "metadata": {},
   "source": [
    "# data frame"
   ]
  },
  {
   "cell_type": "code",
   "execution_count": 1,
   "id": "1355df2a",
   "metadata": {},
   "outputs": [],
   "source": [
    "import pandas as pd\n",
    "import numpy as np"
   ]
  },
  {
   "cell_type": "code",
   "execution_count": 3,
   "id": "0e9da827",
   "metadata": {},
   "outputs": [],
   "source": [
    "data = np.random.randn(4,5)"
   ]
  },
  {
   "cell_type": "code",
   "execution_count": 4,
   "id": "b3f8f173",
   "metadata": {},
   "outputs": [
    {
     "data": {
      "text/plain": [
       "array([[ 0.33469383, -0.23023478,  0.0431392 ,  1.24888641,  1.24040525],\n",
       "       [-0.52606526,  1.66607125,  1.33213468,  1.18217889,  0.32982041],\n",
       "       [-0.32587976,  1.36808632,  0.27713717, -1.08261712, -0.09513555],\n",
       "       [ 0.76407263, -0.41942004, -1.14738166,  1.59109112, -1.32523871]])"
      ]
     },
     "execution_count": 4,
     "metadata": {},
     "output_type": "execute_result"
    }
   ],
   "source": [
    "data"
   ]
  },
  {
   "cell_type": "code",
   "execution_count": 6,
   "id": "2390e16b",
   "metadata": {},
   "outputs": [],
   "source": [
    "dataFrame = pd.DataFrame(data)"
   ]
  },
  {
   "cell_type": "code",
   "execution_count": 8,
   "id": "35adf8e2",
   "metadata": {},
   "outputs": [
    {
     "data": {
      "text/plain": [
       "0    0.334694\n",
       "1   -0.526065\n",
       "2   -0.325880\n",
       "3    0.764073\n",
       "Name: 0, dtype: float64"
      ]
     },
     "execution_count": 8,
     "metadata": {},
     "output_type": "execute_result"
    }
   ],
   "source": [
    "dataFrame[0]"
   ]
  },
  {
   "cell_type": "code",
   "execution_count": 10,
   "id": "912659dd",
   "metadata": {},
   "outputs": [],
   "source": [
    "yenidataframe = pd.DataFrame(data,index = [\"emre\",\"emrah\",\"emir\",\"yiğit\"],columns=[\"maas\",\"yas\",\"saat\",\"bilinmezlik\",\"beşimci\"])"
   ]
  },
  {
   "cell_type": "code",
   "execution_count": 11,
   "id": "45166cfc",
   "metadata": {},
   "outputs": [
    {
     "data": {
      "text/html": [
       "<div>\n",
       "<style scoped>\n",
       "    .dataframe tbody tr th:only-of-type {\n",
       "        vertical-align: middle;\n",
       "    }\n",
       "\n",
       "    .dataframe tbody tr th {\n",
       "        vertical-align: top;\n",
       "    }\n",
       "\n",
       "    .dataframe thead th {\n",
       "        text-align: right;\n",
       "    }\n",
       "</style>\n",
       "<table border=\"1\" class=\"dataframe\">\n",
       "  <thead>\n",
       "    <tr style=\"text-align: right;\">\n",
       "      <th></th>\n",
       "      <th>maas</th>\n",
       "      <th>yas</th>\n",
       "      <th>saat</th>\n",
       "      <th>bilinmezlik</th>\n",
       "      <th>beşimci</th>\n",
       "    </tr>\n",
       "  </thead>\n",
       "  <tbody>\n",
       "    <tr>\n",
       "      <th>emre</th>\n",
       "      <td>0.334694</td>\n",
       "      <td>-0.230235</td>\n",
       "      <td>0.043139</td>\n",
       "      <td>1.248886</td>\n",
       "      <td>1.240405</td>\n",
       "    </tr>\n",
       "    <tr>\n",
       "      <th>emrah</th>\n",
       "      <td>-0.526065</td>\n",
       "      <td>1.666071</td>\n",
       "      <td>1.332135</td>\n",
       "      <td>1.182179</td>\n",
       "      <td>0.329820</td>\n",
       "    </tr>\n",
       "    <tr>\n",
       "      <th>emir</th>\n",
       "      <td>-0.325880</td>\n",
       "      <td>1.368086</td>\n",
       "      <td>0.277137</td>\n",
       "      <td>-1.082617</td>\n",
       "      <td>-0.095136</td>\n",
       "    </tr>\n",
       "    <tr>\n",
       "      <th>yiğit</th>\n",
       "      <td>0.764073</td>\n",
       "      <td>-0.419420</td>\n",
       "      <td>-1.147382</td>\n",
       "      <td>1.591091</td>\n",
       "      <td>-1.325239</td>\n",
       "    </tr>\n",
       "  </tbody>\n",
       "</table>\n",
       "</div>"
      ],
      "text/plain": [
       "           maas       yas      saat  bilinmezlik   beşimci\n",
       "emre   0.334694 -0.230235  0.043139     1.248886  1.240405\n",
       "emrah -0.526065  1.666071  1.332135     1.182179  0.329820\n",
       "emir  -0.325880  1.368086  0.277137    -1.082617 -0.095136\n",
       "yiğit  0.764073 -0.419420 -1.147382     1.591091 -1.325239"
      ]
     },
     "execution_count": 11,
     "metadata": {},
     "output_type": "execute_result"
    }
   ],
   "source": [
    "yenidataframe"
   ]
  },
  {
   "cell_type": "code",
   "execution_count": 12,
   "id": "5b4ea99f",
   "metadata": {},
   "outputs": [
    {
     "data": {
      "text/plain": [
       "emre    -0.230235\n",
       "emrah    1.666071\n",
       "emir     1.368086\n",
       "yiğit   -0.419420\n",
       "Name: yas, dtype: float64"
      ]
     },
     "execution_count": 12,
     "metadata": {},
     "output_type": "execute_result"
    }
   ],
   "source": [
    "yenidataframe[\"yas\"]"
   ]
  },
  {
   "cell_type": "code",
   "execution_count": 17,
   "id": "999e26c8",
   "metadata": {},
   "outputs": [
    {
     "data": {
      "text/html": [
       "<div>\n",
       "<style scoped>\n",
       "    .dataframe tbody tr th:only-of-type {\n",
       "        vertical-align: middle;\n",
       "    }\n",
       "\n",
       "    .dataframe tbody tr th {\n",
       "        vertical-align: top;\n",
       "    }\n",
       "\n",
       "    .dataframe thead th {\n",
       "        text-align: right;\n",
       "    }\n",
       "</style>\n",
       "<table border=\"1\" class=\"dataframe\">\n",
       "  <thead>\n",
       "    <tr style=\"text-align: right;\">\n",
       "      <th></th>\n",
       "      <th>bilinmezlik</th>\n",
       "      <th>maas</th>\n",
       "    </tr>\n",
       "  </thead>\n",
       "  <tbody>\n",
       "    <tr>\n",
       "      <th>emre</th>\n",
       "      <td>1.248886</td>\n",
       "      <td>0.334694</td>\n",
       "    </tr>\n",
       "    <tr>\n",
       "      <th>emrah</th>\n",
       "      <td>1.182179</td>\n",
       "      <td>-0.526065</td>\n",
       "    </tr>\n",
       "    <tr>\n",
       "      <th>emir</th>\n",
       "      <td>-1.082617</td>\n",
       "      <td>-0.325880</td>\n",
       "    </tr>\n",
       "    <tr>\n",
       "      <th>yiğit</th>\n",
       "      <td>1.591091</td>\n",
       "      <td>0.764073</td>\n",
       "    </tr>\n",
       "  </tbody>\n",
       "</table>\n",
       "</div>"
      ],
      "text/plain": [
       "       bilinmezlik      maas\n",
       "emre      1.248886  0.334694\n",
       "emrah     1.182179 -0.526065\n",
       "emir     -1.082617 -0.325880\n",
       "yiğit     1.591091  0.764073"
      ]
     },
     "execution_count": 17,
     "metadata": {},
     "output_type": "execute_result"
    }
   ],
   "source": [
    "yenidataframe[[\"bilinmezlik\",\"maas\"]]"
   ]
  },
  {
   "cell_type": "code",
   "execution_count": 18,
   "id": "5538e616",
   "metadata": {},
   "outputs": [
    {
     "data": {
      "text/plain": [
       "maas          -0.526065\n",
       "yas            1.666071\n",
       "saat           1.332135\n",
       "bilinmezlik    1.182179\n",
       "beşimci        0.329820\n",
       "Name: emrah, dtype: float64"
      ]
     },
     "execution_count": 18,
     "metadata": {},
     "output_type": "execute_result"
    }
   ],
   "source": [
    "yenidataframe.loc[\"emrah\"]"
   ]
  },
  {
   "cell_type": "code",
   "execution_count": 19,
   "id": "8c908cd9",
   "metadata": {},
   "outputs": [
    {
     "data": {
      "text/plain": [
       "maas          -0.325880\n",
       "yas            1.368086\n",
       "saat           0.277137\n",
       "bilinmezlik   -1.082617\n",
       "beşimci       -0.095136\n",
       "Name: emir, dtype: float64"
      ]
     },
     "execution_count": 19,
     "metadata": {},
     "output_type": "execute_result"
    }
   ],
   "source": [
    "yenidataframe.iloc[2]"
   ]
  },
  {
   "cell_type": "code",
   "execution_count": 20,
   "id": "2ae51a93",
   "metadata": {},
   "outputs": [],
   "source": [
    "yenidataframe[\"yenş\"] = yenidataframe[\"yas\"]*2"
   ]
  },
  {
   "cell_type": "code",
   "execution_count": 21,
   "id": "4f764658",
   "metadata": {},
   "outputs": [
    {
     "data": {
      "text/html": [
       "<div>\n",
       "<style scoped>\n",
       "    .dataframe tbody tr th:only-of-type {\n",
       "        vertical-align: middle;\n",
       "    }\n",
       "\n",
       "    .dataframe tbody tr th {\n",
       "        vertical-align: top;\n",
       "    }\n",
       "\n",
       "    .dataframe thead th {\n",
       "        text-align: right;\n",
       "    }\n",
       "</style>\n",
       "<table border=\"1\" class=\"dataframe\">\n",
       "  <thead>\n",
       "    <tr style=\"text-align: right;\">\n",
       "      <th></th>\n",
       "      <th>maas</th>\n",
       "      <th>yas</th>\n",
       "      <th>saat</th>\n",
       "      <th>bilinmezlik</th>\n",
       "      <th>beşimci</th>\n",
       "      <th>yenş</th>\n",
       "    </tr>\n",
       "  </thead>\n",
       "  <tbody>\n",
       "    <tr>\n",
       "      <th>emre</th>\n",
       "      <td>0.334694</td>\n",
       "      <td>-0.230235</td>\n",
       "      <td>0.043139</td>\n",
       "      <td>1.248886</td>\n",
       "      <td>1.240405</td>\n",
       "      <td>-0.460470</td>\n",
       "    </tr>\n",
       "    <tr>\n",
       "      <th>emrah</th>\n",
       "      <td>-0.526065</td>\n",
       "      <td>1.666071</td>\n",
       "      <td>1.332135</td>\n",
       "      <td>1.182179</td>\n",
       "      <td>0.329820</td>\n",
       "      <td>3.332143</td>\n",
       "    </tr>\n",
       "    <tr>\n",
       "      <th>emir</th>\n",
       "      <td>-0.325880</td>\n",
       "      <td>1.368086</td>\n",
       "      <td>0.277137</td>\n",
       "      <td>-1.082617</td>\n",
       "      <td>-0.095136</td>\n",
       "      <td>2.736173</td>\n",
       "    </tr>\n",
       "    <tr>\n",
       "      <th>yiğit</th>\n",
       "      <td>0.764073</td>\n",
       "      <td>-0.419420</td>\n",
       "      <td>-1.147382</td>\n",
       "      <td>1.591091</td>\n",
       "      <td>-1.325239</td>\n",
       "      <td>-0.838840</td>\n",
       "    </tr>\n",
       "  </tbody>\n",
       "</table>\n",
       "</div>"
      ],
      "text/plain": [
       "           maas       yas      saat  bilinmezlik   beşimci      yenş\n",
       "emre   0.334694 -0.230235  0.043139     1.248886  1.240405 -0.460470\n",
       "emrah -0.526065  1.666071  1.332135     1.182179  0.329820  3.332143\n",
       "emir  -0.325880  1.368086  0.277137    -1.082617 -0.095136  2.736173\n",
       "yiğit  0.764073 -0.419420 -1.147382     1.591091 -1.325239 -0.838840"
      ]
     },
     "execution_count": 21,
     "metadata": {},
     "output_type": "execute_result"
    }
   ],
   "source": [
    "yenidataframe"
   ]
  },
  {
   "cell_type": "code",
   "execution_count": 23,
   "id": "6c7c08e4",
   "metadata": {},
   "outputs": [
    {
     "data": {
      "text/html": [
       "<div>\n",
       "<style scoped>\n",
       "    .dataframe tbody tr th:only-of-type {\n",
       "        vertical-align: middle;\n",
       "    }\n",
       "\n",
       "    .dataframe tbody tr th {\n",
       "        vertical-align: top;\n",
       "    }\n",
       "\n",
       "    .dataframe thead th {\n",
       "        text-align: right;\n",
       "    }\n",
       "</style>\n",
       "<table border=\"1\" class=\"dataframe\">\n",
       "  <thead>\n",
       "    <tr style=\"text-align: right;\">\n",
       "      <th></th>\n",
       "      <th>maas</th>\n",
       "      <th>yas</th>\n",
       "      <th>saat</th>\n",
       "      <th>bilinmezlik</th>\n",
       "      <th>beşimci</th>\n",
       "    </tr>\n",
       "  </thead>\n",
       "  <tbody>\n",
       "    <tr>\n",
       "      <th>emre</th>\n",
       "      <td>0.334694</td>\n",
       "      <td>-0.230235</td>\n",
       "      <td>0.043139</td>\n",
       "      <td>1.248886</td>\n",
       "      <td>1.240405</td>\n",
       "    </tr>\n",
       "    <tr>\n",
       "      <th>emrah</th>\n",
       "      <td>-0.526065</td>\n",
       "      <td>1.666071</td>\n",
       "      <td>1.332135</td>\n",
       "      <td>1.182179</td>\n",
       "      <td>0.329820</td>\n",
       "    </tr>\n",
       "    <tr>\n",
       "      <th>emir</th>\n",
       "      <td>-0.325880</td>\n",
       "      <td>1.368086</td>\n",
       "      <td>0.277137</td>\n",
       "      <td>-1.082617</td>\n",
       "      <td>-0.095136</td>\n",
       "    </tr>\n",
       "    <tr>\n",
       "      <th>yiğit</th>\n",
       "      <td>0.764073</td>\n",
       "      <td>-0.419420</td>\n",
       "      <td>-1.147382</td>\n",
       "      <td>1.591091</td>\n",
       "      <td>-1.325239</td>\n",
       "    </tr>\n",
       "  </tbody>\n",
       "</table>\n",
       "</div>"
      ],
      "text/plain": [
       "           maas       yas      saat  bilinmezlik   beşimci\n",
       "emre   0.334694 -0.230235  0.043139     1.248886  1.240405\n",
       "emrah -0.526065  1.666071  1.332135     1.182179  0.329820\n",
       "emir  -0.325880  1.368086  0.277137    -1.082617 -0.095136\n",
       "yiğit  0.764073 -0.419420 -1.147382     1.591091 -1.325239"
      ]
     },
     "execution_count": 23,
     "metadata": {},
     "output_type": "execute_result"
    }
   ],
   "source": [
    "yenidataframe.drop(\"yenş\",axis=1)"
   ]
  },
  {
   "cell_type": "code",
   "execution_count": 24,
   "id": "bb873e16",
   "metadata": {},
   "outputs": [
    {
     "data": {
      "text/html": [
       "<div>\n",
       "<style scoped>\n",
       "    .dataframe tbody tr th:only-of-type {\n",
       "        vertical-align: middle;\n",
       "    }\n",
       "\n",
       "    .dataframe tbody tr th {\n",
       "        vertical-align: top;\n",
       "    }\n",
       "\n",
       "    .dataframe thead th {\n",
       "        text-align: right;\n",
       "    }\n",
       "</style>\n",
       "<table border=\"1\" class=\"dataframe\">\n",
       "  <thead>\n",
       "    <tr style=\"text-align: right;\">\n",
       "      <th></th>\n",
       "      <th>maas</th>\n",
       "      <th>yas</th>\n",
       "      <th>saat</th>\n",
       "      <th>bilinmezlik</th>\n",
       "      <th>beşimci</th>\n",
       "      <th>yenş</th>\n",
       "    </tr>\n",
       "  </thead>\n",
       "  <tbody>\n",
       "    <tr>\n",
       "      <th>emre</th>\n",
       "      <td>0.334694</td>\n",
       "      <td>-0.230235</td>\n",
       "      <td>0.043139</td>\n",
       "      <td>1.248886</td>\n",
       "      <td>1.240405</td>\n",
       "      <td>-0.460470</td>\n",
       "    </tr>\n",
       "    <tr>\n",
       "      <th>emrah</th>\n",
       "      <td>-0.526065</td>\n",
       "      <td>1.666071</td>\n",
       "      <td>1.332135</td>\n",
       "      <td>1.182179</td>\n",
       "      <td>0.329820</td>\n",
       "      <td>3.332143</td>\n",
       "    </tr>\n",
       "    <tr>\n",
       "      <th>emir</th>\n",
       "      <td>-0.325880</td>\n",
       "      <td>1.368086</td>\n",
       "      <td>0.277137</td>\n",
       "      <td>-1.082617</td>\n",
       "      <td>-0.095136</td>\n",
       "      <td>2.736173</td>\n",
       "    </tr>\n",
       "  </tbody>\n",
       "</table>\n",
       "</div>"
      ],
      "text/plain": [
       "           maas       yas      saat  bilinmezlik   beşimci      yenş\n",
       "emre   0.334694 -0.230235  0.043139     1.248886  1.240405 -0.460470\n",
       "emrah -0.526065  1.666071  1.332135     1.182179  0.329820  3.332143\n",
       "emir  -0.325880  1.368086  0.277137    -1.082617 -0.095136  2.736173"
      ]
     },
     "execution_count": 24,
     "metadata": {},
     "output_type": "execute_result"
    }
   ],
   "source": [
    "yenidataframe.drop(\"yiğit\",axis=0)"
   ]
  },
  {
   "cell_type": "code",
   "execution_count": 25,
   "id": "f1bcfbfd",
   "metadata": {},
   "outputs": [],
   "source": [
    "yenidataframe.drop(\"yenş\",axis=1,inplace=True)"
   ]
  },
  {
   "cell_type": "code",
   "execution_count": 26,
   "id": "14fcc59c",
   "metadata": {},
   "outputs": [
    {
     "data": {
      "text/html": [
       "<div>\n",
       "<style scoped>\n",
       "    .dataframe tbody tr th:only-of-type {\n",
       "        vertical-align: middle;\n",
       "    }\n",
       "\n",
       "    .dataframe tbody tr th {\n",
       "        vertical-align: top;\n",
       "    }\n",
       "\n",
       "    .dataframe thead th {\n",
       "        text-align: right;\n",
       "    }\n",
       "</style>\n",
       "<table border=\"1\" class=\"dataframe\">\n",
       "  <thead>\n",
       "    <tr style=\"text-align: right;\">\n",
       "      <th></th>\n",
       "      <th>maas</th>\n",
       "      <th>yas</th>\n",
       "      <th>saat</th>\n",
       "      <th>bilinmezlik</th>\n",
       "      <th>beşimci</th>\n",
       "    </tr>\n",
       "  </thead>\n",
       "  <tbody>\n",
       "    <tr>\n",
       "      <th>emre</th>\n",
       "      <td>0.334694</td>\n",
       "      <td>-0.230235</td>\n",
       "      <td>0.043139</td>\n",
       "      <td>1.248886</td>\n",
       "      <td>1.240405</td>\n",
       "    </tr>\n",
       "    <tr>\n",
       "      <th>emrah</th>\n",
       "      <td>-0.526065</td>\n",
       "      <td>1.666071</td>\n",
       "      <td>1.332135</td>\n",
       "      <td>1.182179</td>\n",
       "      <td>0.329820</td>\n",
       "    </tr>\n",
       "    <tr>\n",
       "      <th>emir</th>\n",
       "      <td>-0.325880</td>\n",
       "      <td>1.368086</td>\n",
       "      <td>0.277137</td>\n",
       "      <td>-1.082617</td>\n",
       "      <td>-0.095136</td>\n",
       "    </tr>\n",
       "    <tr>\n",
       "      <th>yiğit</th>\n",
       "      <td>0.764073</td>\n",
       "      <td>-0.419420</td>\n",
       "      <td>-1.147382</td>\n",
       "      <td>1.591091</td>\n",
       "      <td>-1.325239</td>\n",
       "    </tr>\n",
       "  </tbody>\n",
       "</table>\n",
       "</div>"
      ],
      "text/plain": [
       "           maas       yas      saat  bilinmezlik   beşimci\n",
       "emre   0.334694 -0.230235  0.043139     1.248886  1.240405\n",
       "emrah -0.526065  1.666071  1.332135     1.182179  0.329820\n",
       "emir  -0.325880  1.368086  0.277137    -1.082617 -0.095136\n",
       "yiğit  0.764073 -0.419420 -1.147382     1.591091 -1.325239"
      ]
     },
     "execution_count": 26,
     "metadata": {},
     "output_type": "execute_result"
    }
   ],
   "source": [
    "yenidataframe"
   ]
  },
  {
   "cell_type": "code",
   "execution_count": 27,
   "id": "949f1bd4",
   "metadata": {},
   "outputs": [],
   "source": [
    "yenidataframe = yenidataframe.drop(\"yiğit\")"
   ]
  },
  {
   "cell_type": "code",
   "execution_count": 28,
   "id": "90654c14",
   "metadata": {},
   "outputs": [
    {
     "data": {
      "text/html": [
       "<div>\n",
       "<style scoped>\n",
       "    .dataframe tbody tr th:only-of-type {\n",
       "        vertical-align: middle;\n",
       "    }\n",
       "\n",
       "    .dataframe tbody tr th {\n",
       "        vertical-align: top;\n",
       "    }\n",
       "\n",
       "    .dataframe thead th {\n",
       "        text-align: right;\n",
       "    }\n",
       "</style>\n",
       "<table border=\"1\" class=\"dataframe\">\n",
       "  <thead>\n",
       "    <tr style=\"text-align: right;\">\n",
       "      <th></th>\n",
       "      <th>maas</th>\n",
       "      <th>yas</th>\n",
       "      <th>saat</th>\n",
       "      <th>bilinmezlik</th>\n",
       "      <th>beşimci</th>\n",
       "    </tr>\n",
       "  </thead>\n",
       "  <tbody>\n",
       "    <tr>\n",
       "      <th>emre</th>\n",
       "      <td>0.334694</td>\n",
       "      <td>-0.230235</td>\n",
       "      <td>0.043139</td>\n",
       "      <td>1.248886</td>\n",
       "      <td>1.240405</td>\n",
       "    </tr>\n",
       "    <tr>\n",
       "      <th>emrah</th>\n",
       "      <td>-0.526065</td>\n",
       "      <td>1.666071</td>\n",
       "      <td>1.332135</td>\n",
       "      <td>1.182179</td>\n",
       "      <td>0.329820</td>\n",
       "    </tr>\n",
       "    <tr>\n",
       "      <th>emir</th>\n",
       "      <td>-0.325880</td>\n",
       "      <td>1.368086</td>\n",
       "      <td>0.277137</td>\n",
       "      <td>-1.082617</td>\n",
       "      <td>-0.095136</td>\n",
       "    </tr>\n",
       "  </tbody>\n",
       "</table>\n",
       "</div>"
      ],
      "text/plain": [
       "           maas       yas      saat  bilinmezlik   beşimci\n",
       "emre   0.334694 -0.230235  0.043139     1.248886  1.240405\n",
       "emrah -0.526065  1.666071  1.332135     1.182179  0.329820\n",
       "emir  -0.325880  1.368086  0.277137    -1.082617 -0.095136"
      ]
     },
     "execution_count": 28,
     "metadata": {},
     "output_type": "execute_result"
    }
   ],
   "source": [
    "yenidataframe"
   ]
  },
  {
   "cell_type": "code",
   "execution_count": 29,
   "id": "8b149013",
   "metadata": {},
   "outputs": [
    {
     "data": {
      "text/plain": [
       "-0.5260652564145947"
      ]
     },
     "execution_count": 29,
     "metadata": {},
     "output_type": "execute_result"
    }
   ],
   "source": [
    "yenidataframe.loc[\"emrah\"][\"maas\"]"
   ]
  },
  {
   "cell_type": "code",
   "execution_count": 31,
   "id": "4ac8f31a",
   "metadata": {},
   "outputs": [
    {
     "data": {
      "text/plain": [
       "-0.5260652564145947"
      ]
     },
     "execution_count": 31,
     "metadata": {},
     "output_type": "execute_result"
    }
   ],
   "source": [
    "yenidataframe.loc[\"emrah\",\"maas\"]"
   ]
  },
  {
   "cell_type": "code",
   "execution_count": 32,
   "id": "72943a56",
   "metadata": {},
   "outputs": [],
   "source": [
    "booleanframe = yenidataframe < 0"
   ]
  },
  {
   "cell_type": "code",
   "execution_count": 33,
   "id": "bed898d9",
   "metadata": {},
   "outputs": [
    {
     "data": {
      "text/html": [
       "<div>\n",
       "<style scoped>\n",
       "    .dataframe tbody tr th:only-of-type {\n",
       "        vertical-align: middle;\n",
       "    }\n",
       "\n",
       "    .dataframe tbody tr th {\n",
       "        vertical-align: top;\n",
       "    }\n",
       "\n",
       "    .dataframe thead th {\n",
       "        text-align: right;\n",
       "    }\n",
       "</style>\n",
       "<table border=\"1\" class=\"dataframe\">\n",
       "  <thead>\n",
       "    <tr style=\"text-align: right;\">\n",
       "      <th></th>\n",
       "      <th>maas</th>\n",
       "      <th>yas</th>\n",
       "      <th>saat</th>\n",
       "      <th>bilinmezlik</th>\n",
       "      <th>beşimci</th>\n",
       "    </tr>\n",
       "  </thead>\n",
       "  <tbody>\n",
       "    <tr>\n",
       "      <th>emre</th>\n",
       "      <td>NaN</td>\n",
       "      <td>-0.230235</td>\n",
       "      <td>NaN</td>\n",
       "      <td>NaN</td>\n",
       "      <td>NaN</td>\n",
       "    </tr>\n",
       "    <tr>\n",
       "      <th>emrah</th>\n",
       "      <td>-0.526065</td>\n",
       "      <td>NaN</td>\n",
       "      <td>NaN</td>\n",
       "      <td>NaN</td>\n",
       "      <td>NaN</td>\n",
       "    </tr>\n",
       "    <tr>\n",
       "      <th>emir</th>\n",
       "      <td>-0.325880</td>\n",
       "      <td>NaN</td>\n",
       "      <td>NaN</td>\n",
       "      <td>-1.082617</td>\n",
       "      <td>-0.095136</td>\n",
       "    </tr>\n",
       "  </tbody>\n",
       "</table>\n",
       "</div>"
      ],
      "text/plain": [
       "           maas       yas  saat  bilinmezlik   beşimci\n",
       "emre        NaN -0.230235   NaN          NaN       NaN\n",
       "emrah -0.526065       NaN   NaN          NaN       NaN\n",
       "emir  -0.325880       NaN   NaN    -1.082617 -0.095136"
      ]
     },
     "execution_count": 33,
     "metadata": {},
     "output_type": "execute_result"
    }
   ],
   "source": [
    "yenidataframe[booleanframe]"
   ]
  },
  {
   "cell_type": "code",
   "execution_count": 36,
   "id": "92a42c29",
   "metadata": {},
   "outputs": [
    {
     "data": {
      "text/html": [
       "<div>\n",
       "<style scoped>\n",
       "    .dataframe tbody tr th:only-of-type {\n",
       "        vertical-align: middle;\n",
       "    }\n",
       "\n",
       "    .dataframe tbody tr th {\n",
       "        vertical-align: top;\n",
       "    }\n",
       "\n",
       "    .dataframe thead th {\n",
       "        text-align: right;\n",
       "    }\n",
       "</style>\n",
       "<table border=\"1\" class=\"dataframe\">\n",
       "  <thead>\n",
       "    <tr style=\"text-align: right;\">\n",
       "      <th></th>\n",
       "      <th>maas</th>\n",
       "      <th>yas</th>\n",
       "      <th>saat</th>\n",
       "      <th>bilinmezlik</th>\n",
       "      <th>beşimci</th>\n",
       "    </tr>\n",
       "  </thead>\n",
       "  <tbody>\n",
       "    <tr>\n",
       "      <th>emrah</th>\n",
       "      <td>-0.526065</td>\n",
       "      <td>1.666071</td>\n",
       "      <td>1.332135</td>\n",
       "      <td>1.182179</td>\n",
       "      <td>0.329820</td>\n",
       "    </tr>\n",
       "    <tr>\n",
       "      <th>emir</th>\n",
       "      <td>-0.325880</td>\n",
       "      <td>1.368086</td>\n",
       "      <td>0.277137</td>\n",
       "      <td>-1.082617</td>\n",
       "      <td>-0.095136</td>\n",
       "    </tr>\n",
       "  </tbody>\n",
       "</table>\n",
       "</div>"
      ],
      "text/plain": [
       "           maas       yas      saat  bilinmezlik   beşimci\n",
       "emrah -0.526065  1.666071  1.332135     1.182179  0.329820\n",
       "emir  -0.325880  1.368086  0.277137    -1.082617 -0.095136"
      ]
     },
     "execution_count": 36,
     "metadata": {},
     "output_type": "execute_result"
    }
   ],
   "source": [
    "yenidataframe[yenidataframe[\"yas\"]>0]"
   ]
  },
  {
   "cell_type": "code",
   "execution_count": null,
   "id": "5af2570d",
   "metadata": {},
   "outputs": [],
   "source": []
  }
 ],
 "metadata": {
  "kernelspec": {
   "display_name": "Python 3",
   "language": "python",
   "name": "python3"
  },
  "language_info": {
   "codemirror_mode": {
    "name": "ipython",
    "version": 3
   },
   "file_extension": ".py",
   "mimetype": "text/x-python",
   "name": "python",
   "nbconvert_exporter": "python",
   "pygments_lexer": "ipython3",
   "version": "3.8.8"
  }
 },
 "nbformat": 4,
 "nbformat_minor": 5
}
