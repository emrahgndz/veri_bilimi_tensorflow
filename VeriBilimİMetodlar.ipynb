{
 "cells": [
  {
   "cell_type": "markdown",
   "id": "01b11b65",
   "metadata": {},
   "source": [
    "# range"
   ]
  },
  {
   "cell_type": "code",
   "execution_count": 8,
   "id": "b2253564",
   "metadata": {},
   "outputs": [
    {
     "data": {
      "text/plain": [
       "range(0, 15)"
      ]
     },
     "execution_count": 8,
     "metadata": {},
     "output_type": "execute_result"
    }
   ],
   "source": [
    "range(15)"
   ]
  },
  {
   "cell_type": "code",
   "execution_count": 9,
   "id": "576706f4",
   "metadata": {},
   "outputs": [
    {
     "name": "stdout",
     "output_type": "stream",
     "text": [
      "0\n",
      "5\n",
      "10\n",
      "15\n",
      "20\n",
      "25\n",
      "30\n",
      "35\n",
      "40\n",
      "45\n",
      "50\n",
      "55\n",
      "60\n",
      "65\n",
      "70\n"
     ]
    }
   ],
   "source": [
    "for i in range(15):\n",
    "    i = i*5\n",
    "    print(i)"
   ]
  },
  {
   "cell_type": "code",
   "execution_count": 13,
   "id": "67e1ff16",
   "metadata": {},
   "outputs": [
    {
     "data": {
      "text/plain": [
       "[1, 3, 5, 7, 9, 11, 13, 15, 17, 19]"
      ]
     },
     "execution_count": 13,
     "metadata": {},
     "output_type": "execute_result"
    }
   ],
   "source": [
    "list(range(1,20,2))"
   ]
  },
  {
   "cell_type": "markdown",
   "id": "a6f75425",
   "metadata": {},
   "source": [
    "# enumerate"
   ]
  },
  {
   "cell_type": "code",
   "execution_count": 17,
   "id": "664706c5",
   "metadata": {},
   "outputs": [
    {
     "name": "stdout",
     "output_type": "stream",
     "text": [
      "güncel numara: 5 , güncel index: 0\n",
      "güncel numara: 6 , güncel index: 1\n",
      "güncel numara: 7 , güncel index: 2\n",
      "güncel numara: 8 , güncel index: 3\n",
      "güncel numara: 9 , güncel index: 4\n",
      "güncel numara: 10 , güncel index: 5\n",
      "güncel numara: 11 , güncel index: 6\n",
      "güncel numara: 12 , güncel index: 7\n",
      "güncel numara: 13 , güncel index: 8\n",
      "güncel numara: 14 , güncel index: 9\n"
     ]
    }
   ],
   "source": [
    "index = 0 \n",
    "for numara in range(5,15):\n",
    "    print(f\"güncel numara: {numara} , güncel index: {index}\")\n",
    "    index = index + 1"
   ]
  },
  {
   "cell_type": "code",
   "execution_count": 18,
   "id": "9cdb20e7",
   "metadata": {},
   "outputs": [
    {
     "name": "stdout",
     "output_type": "stream",
     "text": [
      "0 5\n",
      "1 6\n",
      "2 7\n",
      "3 8\n",
      "4 9\n",
      "5 10\n",
      "6 11\n",
      "7 12\n",
      "8 13\n",
      "9 14\n"
     ]
    }
   ],
   "source": [
    "for (index,eleman) in enumerate(list(range(5,15))):\n",
    "    print(index,eleman)"
   ]
  },
  {
   "cell_type": "code",
   "execution_count": 20,
   "id": "830417c0",
   "metadata": {},
   "outputs": [],
   "source": [
    "from random import randint,shuffle"
   ]
  },
  {
   "cell_type": "code",
   "execution_count": 22,
   "id": "ac33f38b",
   "metadata": {},
   "outputs": [],
   "source": [
    "yenilis= list(range(0,10))"
   ]
  },
  {
   "cell_type": "code",
   "execution_count": 24,
   "id": "5366d849",
   "metadata": {},
   "outputs": [],
   "source": [
    "shuffle(yenilis)"
   ]
  },
  {
   "cell_type": "code",
   "execution_count": 25,
   "id": "38f4ef81",
   "metadata": {},
   "outputs": [
    {
     "data": {
      "text/plain": [
       "[7, 3, 8, 0, 2, 1, 5, 4, 6, 9]"
      ]
     },
     "execution_count": 25,
     "metadata": {},
     "output_type": "execute_result"
    }
   ],
   "source": [
    "yenilis"
   ]
  },
  {
   "cell_type": "markdown",
   "id": "e2a66f88",
   "metadata": {},
   "source": [
    "# zip"
   ]
  },
  {
   "cell_type": "code",
   "execution_count": 26,
   "id": "8f43d715",
   "metadata": {},
   "outputs": [],
   "source": [
    "yemeklistesi= [\"muz\",\"elma\",\"şeftali\",\"ananas\"]\n",
    "kalori = [100,200,300,400]\n",
    "gun = [\"pzt\",\"sl\",\"çrşb\",\"prş\"]\n",
    "zipli = list(zip(yemeklistesi,kalori,gun))"
   ]
  },
  {
   "cell_type": "code",
   "execution_count": 27,
   "id": "a00171e4",
   "metadata": {},
   "outputs": [
    {
     "data": {
      "text/plain": [
       "[('muz', 100, 'pzt'),\n",
       " ('elma', 200, 'sl'),\n",
       " ('şeftali', 300, 'çrşb'),\n",
       " ('ananas', 400, 'prş')]"
      ]
     },
     "execution_count": 27,
     "metadata": {},
     "output_type": "execute_result"
    }
   ],
   "source": [
    "zipli"
   ]
  },
  {
   "cell_type": "code",
   "execution_count": null,
   "id": "69ce6466",
   "metadata": {},
   "outputs": [],
   "source": []
  },
  {
   "cell_type": "code",
   "execution_count": null,
   "id": "7317402a",
   "metadata": {},
   "outputs": [],
   "source": []
  }
 ],
 "metadata": {
  "kernelspec": {
   "display_name": "Python 3",
   "language": "python",
   "name": "python3"
  },
  "language_info": {
   "codemirror_mode": {
    "name": "ipython",
    "version": 3
   },
   "file_extension": ".py",
   "mimetype": "text/x-python",
   "name": "python",
   "nbconvert_exporter": "python",
   "pygments_lexer": "ipython3",
   "version": "3.8.8"
  }
 },
 "nbformat": 4,
 "nbformat_minor": 5
}
