{
 "cells": [
  {
   "cell_type": "code",
   "execution_count": null,
   "id": "61b92fd9",
   "metadata": {},
   "outputs": [],
   "source": [
    "liste= [1,2,3,4,5,6,]"
   ]
  },
  {
   "cell_type": "code",
   "execution_count": null,
   "id": "ccff004c",
   "metadata": {},
   "outputs": [],
   "source": [
    "for i in liste:\n",
    "    if i %2 == 0:\n",
    "        print(\"çift\")\n",
    "    else:\n",
    "        print(\"tek\")"
   ]
  },
  {
   "cell_type": "markdown",
   "id": "29eba5ef",
   "metadata": {},
   "source": [
    "# break continue ve pass ama pass örneği yok"
   ]
  },
  {
   "cell_type": "code",
   "execution_count": null,
   "id": "6bd4bd1f",
   "metadata": {},
   "outputs": [],
   "source": [
    "liste = [5,10,15,20,25,30]"
   ]
  },
  {
   "cell_type": "code",
   "execution_count": null,
   "id": "28abb275",
   "metadata": {},
   "outputs": [],
   "source": [
    "for i in liste:\n",
    "    if i == 15:\n",
    "        break\n",
    "    print(i)"
   ]
  },
  {
   "cell_type": "code",
   "execution_count": null,
   "id": "90b0cdae",
   "metadata": {},
   "outputs": [],
   "source": [
    "for i in liste:\n",
    "    if i == 15:\n",
    "        continue\n",
    "    print(i)"
   ]
  },
  {
   "cell_type": "markdown",
   "id": "89007821",
   "metadata": {},
   "source": [
    "# while"
   ]
  },
  {
   "cell_type": "code",
   "execution_count": 2,
   "id": "e85b5be3",
   "metadata": {},
   "outputs": [
    {
     "name": "stdout",
     "output_type": "stream",
     "text": [
      "0\n",
      "1\n",
      "2\n",
      "3\n",
      "4\n",
      "5\n",
      "6\n",
      "7\n",
      "8\n",
      "9\n"
     ]
    }
   ],
   "source": [
    "x = 0 \n",
    "while x < 10:\n",
    "    \n",
    "    print(x)\n",
    "    x = x + 1"
   ]
  },
  {
   "cell_type": "code",
   "execution_count": 3,
   "id": "0514688c",
   "metadata": {},
   "outputs": [],
   "source": [
    "\n",
    "listem = [1,2,3,4,5]"
   ]
  },
  {
   "cell_type": "code",
   "execution_count": 4,
   "id": "16eb224a",
   "metadata": {},
   "outputs": [
    {
     "name": "stdout",
     "output_type": "stream",
     "text": [
      "3 listede\n",
      "3 listede\n",
      "3 listede\n"
     ]
    }
   ],
   "source": [
    "while 3 in listem:\n",
    "    print(\"3 listede\")\n",
    "    listem.pop()\n",
    "    "
   ]
  },
  {
   "cell_type": "code",
   "execution_count": 5,
   "id": "2b901552",
   "metadata": {},
   "outputs": [],
   "source": [
    "numara = 0"
   ]
  },
  {
   "cell_type": "code",
   "execution_count": 6,
   "id": "7a2b8773",
   "metadata": {},
   "outputs": [
    {
     "name": "stdout",
     "output_type": "stream",
     "text": [
      "0\n",
      "1\n",
      "2\n",
      "3\n"
     ]
    }
   ],
   "source": [
    "while numara < 5 :\n",
    "    if numara == 4:\n",
    "        break\n",
    "    print(numara)\n",
    "    numara = numara +1"
   ]
  },
  {
   "cell_type": "code",
   "execution_count": null,
   "id": "8e646054",
   "metadata": {},
   "outputs": [],
   "source": []
  },
  {
   "cell_type": "code",
   "execution_count": null,
   "id": "42165fb0",
   "metadata": {},
   "outputs": [],
   "source": []
  }
 ],
 "metadata": {
  "kernelspec": {
   "display_name": "Python 3",
   "language": "python",
   "name": "python3"
  },
  "language_info": {
   "codemirror_mode": {
    "name": "ipython",
    "version": 3
   },
   "file_extension": ".py",
   "mimetype": "text/x-python",
   "name": "python",
   "nbconvert_exporter": "python",
   "pygments_lexer": "ipython3",
   "version": "3.8.8"
  }
 },
 "nbformat": 4,
 "nbformat_minor": 5
}
