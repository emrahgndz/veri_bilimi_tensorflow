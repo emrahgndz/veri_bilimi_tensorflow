{
 "cells": [
  {
   "cell_type": "code",
   "execution_count": 1,
   "id": "2aa4d5ab",
   "metadata": {},
   "outputs": [],
   "source": [
    "benimadim = \"Emrah Gündüz\""
   ]
  },
  {
   "cell_type": "code",
   "execution_count": 2,
   "id": "ce4bd566",
   "metadata": {},
   "outputs": [
    {
     "data": {
      "text/plain": [
       "'E'"
      ]
     },
     "execution_count": 2,
     "metadata": {},
     "output_type": "execute_result"
    }
   ],
   "source": [
    "benimadim[0]"
   ]
  },
  {
   "cell_type": "code",
   "execution_count": 29,
   "id": "5d06488f",
   "metadata": {},
   "outputs": [],
   "source": [
    "benimlistem= [12,34,123,432]"
   ]
  },
  {
   "cell_type": "code",
   "execution_count": 30,
   "id": "e313d633",
   "metadata": {},
   "outputs": [
    {
     "data": {
      "text/plain": [
       "list"
      ]
     },
     "execution_count": 30,
     "metadata": {},
     "output_type": "execute_result"
    }
   ],
   "source": [
    "type(benimlistem)"
   ]
  },
  {
   "cell_type": "code",
   "execution_count": 31,
   "id": "cf1ab929",
   "metadata": {},
   "outputs": [
    {
     "data": {
      "text/plain": [
       "34"
      ]
     },
     "execution_count": 31,
     "metadata": {},
     "output_type": "execute_result"
    }
   ],
   "source": [
    "benimlistem[1]"
   ]
  },
  {
   "cell_type": "code",
   "execution_count": 32,
   "id": "dcdbee1e",
   "metadata": {},
   "outputs": [],
   "source": [
    "benimlistem [1] = 23433"
   ]
  },
  {
   "cell_type": "code",
   "execution_count": 33,
   "id": "029967a4",
   "metadata": {},
   "outputs": [
    {
     "data": {
      "text/plain": [
       "[12, 23433, 123, 432]"
      ]
     },
     "execution_count": 33,
     "metadata": {},
     "output_type": "execute_result"
    }
   ],
   "source": [
    "benimlistem"
   ]
  },
  {
   "cell_type": "code",
   "execution_count": 34,
   "id": "84078476",
   "metadata": {},
   "outputs": [],
   "source": [
    "benimlistem.append(232)"
   ]
  },
  {
   "cell_type": "code",
   "execution_count": 35,
   "id": "363c411a",
   "metadata": {},
   "outputs": [
    {
     "data": {
      "text/plain": [
       "[12, 23433, 123, 432, 232]"
      ]
     },
     "execution_count": 35,
     "metadata": {},
     "output_type": "execute_result"
    }
   ],
   "source": [
    "benimlistem"
   ]
  },
  {
   "cell_type": "code",
   "execution_count": null,
   "id": "471cef6a",
   "metadata": {},
   "outputs": [],
   "source": []
  },
  {
   "cell_type": "code",
   "execution_count": 36,
   "id": "0184486a",
   "metadata": {},
   "outputs": [
    {
     "data": {
      "text/plain": [
       "[12, 23433, 123, 432, 232]"
      ]
     },
     "execution_count": 36,
     "metadata": {},
     "output_type": "execute_result"
    }
   ],
   "source": [
    "benimlistem"
   ]
  },
  {
   "cell_type": "code",
   "execution_count": 37,
   "id": "65772555",
   "metadata": {},
   "outputs": [],
   "source": [
    "nestedlist = [1,5,\"atıl\",4,[6,\"z\"]]"
   ]
  },
  {
   "cell_type": "code",
   "execution_count": 55,
   "id": "551985eb",
   "metadata": {},
   "outputs": [
    {
     "name": "stdout",
     "output_type": "stream",
     "text": [
      "z\n"
     ]
    }
   ],
   "source": [
    "z= nestedlist[4][1]\n",
    "print(z)"
   ]
  },
  {
   "cell_type": "code",
   "execution_count": null,
   "id": "0d1e6739",
   "metadata": {},
   "outputs": [],
   "source": []
  }
 ],
 "metadata": {
  "kernelspec": {
   "display_name": "Python 3",
   "language": "python",
   "name": "python3"
  },
  "language_info": {
   "codemirror_mode": {
    "name": "ipython",
    "version": 3
   },
   "file_extension": ".py",
   "mimetype": "text/x-python",
   "name": "python",
   "nbconvert_exporter": "python",
   "pygments_lexer": "ipython3",
   "version": "3.8.8"
  }
 },
 "nbformat": 4,
 "nbformat_minor": 5
}
